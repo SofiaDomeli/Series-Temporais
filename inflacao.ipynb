{
 "cells": [
  {
   "cell_type": "markdown",
   "metadata": {},
   "source": [
    "# <center> 📈 Inflação - Séries Temporais 📈 </center>"
   ]
  },
  {
   "cell_type": "markdown",
   "metadata": {},
   "source": [
    "## 0. Informações do Grupo"
   ]
  },
  {
   "cell_type": "markdown",
   "metadata": {},
   "source": [
    "**Integrantes**:\n",
    "- Henry Dorta Stevanato de Brito - n° 11\n",
    "- Natalia Souza Carvalho - n° 15\n",
    "- Olivia Farias Domingues - n° 16\n",
    "- Sofia Elisabete Rosa Domingues - n° 18\n",
    "- Stephany Andreina de Carvalho da Silva - n° 19\n",
    "\n",
    "**2°G Tech**"
   ]
  },
  {
   "cell_type": "markdown",
   "metadata": {},
   "source": [
    "## 1. Questões"
   ]
  },
  {
   "cell_type": "markdown",
   "metadata": {},
   "source": [
    "**1. O que é o IPCA e por que ele é importante na economia brasileira?**\n",
    "\n",
    "O IPCA (Índice Nacional de Preços ao Consumidor Amplo), é uma medida tradicional do Brasil calculada pelo IBGE que indica a variação dos preços dos produtos que o brasileiro consome, ou seja, ele mede a inflação. \n",
    "\n",
    "Esse índice engloba 90% da população em áreas urbanas, e por ser calculado pelo IBGE, o Bacen e o governo federal o utilizam para calcular os ajustes em taxas de juros. \n",
    "\n",
    "O IPCA é um indicador que impacta investidores e a população em geral, refletindo a relação entre oferta e demanda de produtos e serviços. Quando a procura por um item é alta e a oferta é limitada, o preço tende a subir. Por outro lado, se o consumo diminui, os preços podem se estabilizar ou cair. \n",
    "\n",
    "Esse índice é usado pelo governo para monitorar a meta de inflação anual e definir políticas econômicas, como o ajuste da taxa Selic para controlar o consumo e a inflação. \n",
    "\n",
    "O aumento do IPCA reduz o poder de compra da população, já que muitos preços são reajustados com base nesse indicador. Além disso, o excesso de gastos públicos e o aumento da circulação de dinheiro na economia também influenciam a inflação, especialmente quando afetam produtos importados ou cotados em dólar. \n",
    "\n",
    "\n",
    "O IPCA tem alguns tipos e valores, sendo eles: \n",
    "\n",
    "- **IPCA Mensal**: Mede a variação dos preços mês a mês, refletindo tendências de curto prazo na inflação. É usado para monitorar oscilações imediatas no custo de vida e avaliar impactos econômicos recentes. \n",
    "- **IPCA Acumulado**: Calcula a inflação ao longo de um período, como no ano ou nos últimos 12 meses. Serve como base para reajustes salariais, contratos de aluguel e análises econômicas de médio e longo prazo. \n",
    "- **IPCA-15**: Funciona como uma prévia do IPCA mensal, medindo a inflação entre o dia 15 de um mês e o dia 15 do seguinte. É útil para antecipar tendências inflacionárias e orientar decisões financeiras e políticas antes da divulgação do IPCA oficial. \n",
    "- **IPCA Dessazonalizado**: Ajusta o IPCA para remover variações sazonais, permitindo uma análise mais precisa da tendência subjacente da inflação. Auxilia na definição de políticas monetárias sem distorções causadas por fatores sazonais. "
   ]
  },
  {
   "cell_type": "markdown",
   "metadata": {},
   "source": [
    "**2. Como a cotação do dólar impacta o dia a dia dos consumidores e das empresas?**\n",
    "\n",
    "O **câmbio flutuante**, é o conceito que define a variação do preço da moeda, ele permite que a cotação do dólar altere conforme a **oferta e demanda** no mercado. Quando há grande procura pela moeda, seu valor sobe; quando a oferta aumenta, o preço cai. Essa oscilação é influenciada por diversos fatores, como inflação, taxa de juros, volume de importações e exportações, fluxo de turistas e investimentos estrangeiros. \n",
    "\n",
    "Essas variações têm impactos diretos no cotidiano da população e no funcionamento das empresas. Para os consumidores, a alta do dólar encarece produtos importados, como eletrônicos, roupas e cosméticos, pois muitos desses itens dependem de insumos estrangeiros. Além disso, viagens internacionais ficam mais caras, aumentando o custo de passagens aéreas, hospedagem e despesas em dólar. \n",
    "\n",
    "Já para as empresas, a valorização do dólar eleva os custos de produção, especialmente em setores que utilizam matéria-prima importada. Além disso, empresas com dívidas em moeda estrangeira enfrentam maiores dificuldades financeiras, pois os valores a serem pagos aumentam. \n",
    "\n",
    "Dessa forma, a cotação do dólar tem um efeito amplo na economia, influenciando tanto os preços no mercado interno quanto a competitividade das empresas brasileiras no cenário global. "
   ]
  },
  {
   "cell_type": "markdown",
   "metadata": {},
   "source": [
    "**3. Quais eventos políticos ou econômicos podem ter levado a grandes oscilações dos indicadores? Podemos observar nos gráficos?**\n",
    "\n",
    "Entre 2020 e 2024, diversos eventos políticos e econômicos influenciaram significativamente o Índice de Preços ao Consumidor Amplo (IPCA) e a cotação do dólar no Brasil. A gestão fiscal do governo brasileiro durante esse período gerou preocupações entre investidores e analistas. Medidas como aumentos nos gastos públicos sem correspondentes cortes ou aumentos de receita suscitaram dúvidas sobre a sustentabilidade da dívida pública. Essa desconfiança resultou na desvalorização do real, que atingiu níveis recordes em relação ao dólar em dezembro de 2024, quando a moeda brasileira chegou a ser cotada a R$ 6,32 por dólar. A depreciação cambial impactou diretamente o IPCA, elevando os preços de produtos importados e pressionando a inflação. Em resposta à persistente alta da inflação, o Banco Central do Brasil adotou uma postura mais rígida na política monetária. Em janeiro de 2025, a taxa Selic foi elevada para 13,25%, marcando o quarto aumento consecutivo. Essa medida visou conter a inflação, que havia ultrapassado a meta oficial de 3%, alcançando 4,5% nos 12 meses até meados de janeiro de 2025. \n",
    "\n",
    "Condições climáticas adversas, como secas e enchentes, afetaram a produção agrícola em diversas regiões do país. Esses eventos resultaram na redução da oferta de alimentos, contribuindo para o aumento dos preços no mercado interno. Por exemplo, em 2024, o grupo \"alimentos e bebidas\" registrou uma alta de 7,69%, impactando significativamente o IPCA. \n",
    "\n",
    "No âmbito externo, políticas econômicas adotadas por outros países influenciaram a economia brasileira. A valorização do dólar frente a moedas de economias emergentes, decorrente de medidas protecionistas e ajustes nas taxas de juros nos Estados Unidos, intensificou a pressão sobre o real. Essa valorização do dólar encareceu produtos importados e matérias-primas, refletindo-se em aumentos de preços no mercado interno e, consequentemente, no IPCA. \n",
    "\n",
    "**Metas de inflação** \n",
    "\n",
    "A meta de inflação é um objetivo definido pelo governo para controlar o aumento dos preços na economia. No Brasil, essa meta é estabelecida pelo Conselho Monetário Nacional (CMN) e monitorada pelo Banco Central por meio da política de juros (Taxa Selic). \n",
    "\n",
    "Os bancos centrais atuam para que a inflação efetiva esteja em linha com uma meta pré-estabelecida. Nesse sistema, a meta para a inflação é anunciada publicamente e funciona como uma âncora para as expectativas dos agentes sobre a inflação futura, permitindo que desvios da inflação em relação à meta sejam corrigidos ao longo do tempo. \n",
    "\n",
    "A partir de janeiro de 2025, em linha com a experiência internacional, a meta se refere à inflação acumulada em doze meses, apurada mês a mês, também conhecida por \"meta contínua\". Por exemplo, em janeiro de 2025, a inflação acumulada em doze meses é comparada com a meta e seu intervalo de tolerância. Em fevereiro seguinte, o mesmo procedimento, e assim por diante. Assim, a verificação se desloca ao longo do tempo, não ficando mais restrito ao mês de dezembro de cada ano. \n",
    "\n",
    "**Como funciona a meta de inflação?** \n",
    "\n",
    "- O CMN define um valor percentual de inflação desejado para o ano (por exemplo, 3% para 2024). \n",
    "\n",
    "- Existe um intervalo de tolerância para cima ou para baixo (exemplo: ±1,5 ponto percentual, ou seja, entre 1,5% e 4,5%). \n",
    "\n",
    "- O Banco Central usa a Taxa Selic para manter a inflação dentro desse intervalo. \n",
    "\n",
    "- - Se a inflação sobe muito: o BC aumenta os juros, tornando o crédito mais caro e reduzindo o consumo. \n",
    "\n",
    "- - Se a inflação cai demais: o BC pode reduzir os juros para estimular o consumo e os investimentos. \n",
    "\n",
    "\n",
    "**O que é Taxa Selic?** \n",
    "\n",
    "A Taxa Selic é a taxa básica de juros da economia brasileira, usada pelo Banco Central (BC) para controlar a inflação e influenciar a economia. \n",
    "\n",
    "**Como a Taxa Selic funciona?**\n",
    "- O Banco Central usa a Selic para ajustar a oferta de crédito e controlar a inflação: \n",
    "- Se a inflação está alta, o BC sobe a Selic → juros mais altos tornam o crédito mais caro, reduzindo o consumo e ajudando a controlar os preços. \n",
    "- Se a economia está fraca, o BC reduz a Selic → juros mais baixos tornam o crédito mais barato, incentivando consumo e investimentos. \n",
    "\n",
    "**Como a Selic afeta a economia?** \n",
    "- Empréstimos e financiamentos: Quanto maior a Selic, mais caros ficam os juros para consumidores e empresas. \n",
    "- Investimentos: A Selic influencia a rentabilidade da poupança, CDBs e Tesouro Direto. \n",
    "- Inflação: Se a Selic sobe, o consumo cai, ajudando a segurar os preços. \n",
    "\n",
    "A Selic é definida a cada 45 dias pelo Comitê de Política Monetária (Copom). \n",
    "\n",
    "**Por que isso é importante?**\n",
    "- Ajuda na previsibilidade econômica, facilitando investimentos e planejamento financeiro. \n",
    "- Evita alta inflação, que reduz o poder de compra. \n",
    "- Evita deflação, que pode causar recessão e desemprego. "
   ]
  },
  {
   "cell_type": "markdown",
   "metadata": {},
   "source": [
    "## 2. Código"
   ]
  },
  {
   "cell_type": "markdown",
   "metadata": {},
   "source": [
    "### 2.0 Importações"
   ]
  },
  {
   "cell_type": "code",
   "execution_count": 9,
   "metadata": {},
   "outputs": [],
   "source": [
    "import pandas as pd\n",
    "import plotly.express as px\n",
    "from plotly.subplots import make_subplots\n",
    "import plotly.graph_objects as go"
   ]
  },
  {
   "cell_type": "markdown",
   "metadata": {},
   "source": [
    "### 2.1 Importação e limpeza do Dataframe"
   ]
  },
  {
   "cell_type": "code",
   "execution_count": 10,
   "metadata": {},
   "outputs": [],
   "source": [
    "# Leitura do dataframe\n",
    "df = pd.read_excel('inflacao_ipca.xlsx')\n",
    "\n",
    "# Filtrando os dados a partir de 2018\n",
    "df = df.loc[df['Mês'] >= '2018-01-01']\n",
    "\n",
    "# Crianda a coluna do mês em datetime no pandas e setando como index\n",
    "df['Mes'] = pd.to_datetime(df['Mês'])\n",
    "df.set_index('Mes', inplace=True)"
   ]
  },
  {
   "cell_type": "markdown",
   "metadata": {},
   "source": [
    "### 2.2 Definição das granularidades"
   ]
  },
  {
   "cell_type": "code",
   "execution_count": 11,
   "metadata": {},
   "outputs": [],
   "source": [
    "# Definição das granularidades para análise\n",
    "granularidades = {\n",
    "    'Mês': 'ME',\n",
    "    'Quarter': 'QE',\n",
    "    'Semestre': '2QE',\n",
    "    'Ano': 'YE'\n",
    "}"
   ]
  },
  {
   "cell_type": "markdown",
   "metadata": {},
   "source": [
    "### 2.3 Subplots para análise"
   ]
  },
  {
   "cell_type": "code",
   "execution_count": 12,
   "metadata": {},
   "outputs": [
    {
     "data": {
      "application/vnd.plotly.v1+json": {
       "config": {
        "plotlyServerURL": "https://plot.ly"
       },
       "data": [
        {
         "name": "Mês",
         "type": "scatter",
         "x": [
          "2018-01-31T00:00:00",
          "2018-02-28T00:00:00",
          "2018-03-31T00:00:00",
          "2018-04-30T00:00:00",
          "2018-05-31T00:00:00",
          "2018-06-30T00:00:00",
          "2018-07-31T00:00:00",
          "2018-08-31T00:00:00",
          "2018-09-30T00:00:00",
          "2018-10-31T00:00:00",
          "2018-11-30T00:00:00",
          "2018-12-31T00:00:00",
          "2019-01-31T00:00:00",
          "2019-02-28T00:00:00",
          "2019-03-31T00:00:00",
          "2019-04-30T00:00:00",
          "2019-05-31T00:00:00",
          "2019-06-30T00:00:00",
          "2019-07-31T00:00:00",
          "2019-08-31T00:00:00",
          "2019-09-30T00:00:00",
          "2019-10-31T00:00:00",
          "2019-11-30T00:00:00",
          "2019-12-31T00:00:00",
          "2020-01-31T00:00:00",
          "2020-02-29T00:00:00",
          "2020-03-31T00:00:00",
          "2020-04-30T00:00:00",
          "2020-05-31T00:00:00",
          "2020-06-30T00:00:00",
          "2020-07-31T00:00:00",
          "2020-08-31T00:00:00",
          "2020-09-30T00:00:00",
          "2020-10-31T00:00:00",
          "2020-11-30T00:00:00",
          "2020-12-31T00:00:00",
          "2021-01-31T00:00:00",
          "2021-02-28T00:00:00",
          "2021-03-31T00:00:00",
          "2021-04-30T00:00:00",
          "2021-05-31T00:00:00",
          "2021-06-30T00:00:00",
          "2021-07-31T00:00:00",
          "2021-08-31T00:00:00",
          "2021-09-30T00:00:00",
          "2021-10-31T00:00:00",
          "2021-11-30T00:00:00",
          "2021-12-31T00:00:00",
          "2022-01-31T00:00:00",
          "2022-02-28T00:00:00",
          "2022-03-31T00:00:00",
          "2022-04-30T00:00:00",
          "2022-05-31T00:00:00",
          "2022-06-30T00:00:00",
          "2022-07-31T00:00:00",
          "2022-08-31T00:00:00",
          "2022-09-30T00:00:00",
          "2022-10-31T00:00:00",
          "2022-11-30T00:00:00",
          "2022-12-31T00:00:00",
          "2023-01-31T00:00:00",
          "2023-02-28T00:00:00",
          "2023-03-31T00:00:00",
          "2023-04-30T00:00:00",
          "2023-05-31T00:00:00",
          "2023-06-30T00:00:00",
          "2023-07-31T00:00:00",
          "2023-08-31T00:00:00",
          "2023-09-30T00:00:00",
          "2023-10-31T00:00:00",
          "2023-11-30T00:00:00",
          "2023-12-31T00:00:00",
          "2024-01-31T00:00:00",
          "2024-02-29T00:00:00",
          "2024-03-31T00:00:00",
          "2024-04-30T00:00:00",
          "2024-05-31T00:00:00",
          "2024-06-30T00:00:00",
          "2024-07-31T00:00:00",
          "2024-08-31T00:00:00",
          "2024-09-30T00:00:00",
          "2024-10-31T00:00:00",
          "2024-11-30T00:00:00",
          "2024-12-31T00:00:00",
          "2025-01-31T00:00:00"
         ],
         "xaxis": "x",
         "y": [
          0.29,
          0.32,
          0.09,
          0.22,
          0.4,
          1.26,
          0.33,
          -0.09,
          0.48,
          0.45,
          -0.21,
          0.15,
          0.32,
          0.43,
          0.75,
          0.57,
          0.13,
          0.01,
          0.19,
          0.11,
          -0.04,
          0.1,
          0.51,
          1.15,
          0.21,
          0.25,
          0.07,
          -0.31,
          -0.38,
          0.26,
          0.36,
          0.24,
          0.64,
          0.86,
          0.89,
          1.35,
          0.25,
          0.86,
          0.93,
          0.31,
          0.83,
          0.53,
          0.96,
          0.87,
          1.16,
          1.25,
          0.95,
          0.73,
          0.54,
          1.01,
          1.62,
          1.06,
          0.47,
          0.67,
          -0.68,
          -0.36,
          -0.29,
          0.59,
          0.41,
          0.62,
          0.53,
          0.84,
          0.71,
          0.61,
          0.23,
          -0.08,
          0.12,
          0.23,
          0.26,
          0.24,
          0.28,
          0.56,
          0.42,
          0.83,
          0.16,
          0.38,
          0.46,
          0.21,
          0.38,
          -0.02,
          0.44,
          0.56,
          0.39,
          0.52,
          0.16
         ],
         "yaxis": "y"
        },
        {
         "name": "Quarter",
         "type": "scatter",
         "x": [
          "2018-03-31T00:00:00",
          "2018-06-30T00:00:00",
          "2018-09-30T00:00:00",
          "2018-12-31T00:00:00",
          "2019-03-31T00:00:00",
          "2019-06-30T00:00:00",
          "2019-09-30T00:00:00",
          "2019-12-31T00:00:00",
          "2020-03-31T00:00:00",
          "2020-06-30T00:00:00",
          "2020-09-30T00:00:00",
          "2020-12-31T00:00:00",
          "2021-03-31T00:00:00",
          "2021-06-30T00:00:00",
          "2021-09-30T00:00:00",
          "2021-12-31T00:00:00",
          "2022-03-31T00:00:00",
          "2022-06-30T00:00:00",
          "2022-09-30T00:00:00",
          "2022-12-31T00:00:00",
          "2023-03-31T00:00:00",
          "2023-06-30T00:00:00",
          "2023-09-30T00:00:00",
          "2023-12-31T00:00:00",
          "2024-03-31T00:00:00",
          "2024-06-30T00:00:00",
          "2024-09-30T00:00:00",
          "2024-12-31T00:00:00",
          "2025-03-31T00:00:00"
         ],
         "xaxis": "x2",
         "y": [
          0.2333333333333333,
          0.6266666666666666,
          0.24,
          0.13,
          0.5,
          0.23666666666666666,
          0.08666666666666667,
          0.5866666666666666,
          0.17666666666666667,
          -0.14333333333333334,
          0.41333333333333333,
          1.0333333333333334,
          0.68,
          0.5566666666666666,
          0.9966666666666666,
          0.9766666666666666,
          1.0566666666666666,
          0.7333333333333334,
          -0.44333333333333336,
          0.5399999999999999,
          0.6933333333333334,
          0.25333333333333335,
          0.20333333333333334,
          0.36000000000000004,
          0.47,
          0.35000000000000003,
          0.26666666666666666,
          0.49000000000000005,
          0.16
         ],
         "yaxis": "y2"
        },
        {
         "name": "Semestre",
         "type": "scatter",
         "x": [
          "2018-03-31T00:00:00",
          "2018-09-30T00:00:00",
          "2019-03-31T00:00:00",
          "2019-09-30T00:00:00",
          "2020-03-31T00:00:00",
          "2020-09-30T00:00:00",
          "2021-03-31T00:00:00",
          "2021-09-30T00:00:00",
          "2022-03-31T00:00:00",
          "2022-09-30T00:00:00",
          "2023-03-31T00:00:00",
          "2023-09-30T00:00:00",
          "2024-03-31T00:00:00",
          "2024-09-30T00:00:00",
          "2025-03-31T00:00:00"
         ],
         "xaxis": "x3",
         "y": [
          0.2333333333333333,
          0.43333333333333335,
          0.315,
          0.16166666666666665,
          0.3816666666666666,
          0.135,
          0.8566666666666668,
          0.7766666666666667,
          1.0166666666666666,
          0.14500000000000002,
          0.6166666666666666,
          0.22833333333333336,
          0.41500000000000004,
          0.30833333333333335,
          0.40750000000000003
         ],
         "yaxis": "y3"
        },
        {
         "name": "Ano",
         "type": "scatter",
         "x": [
          "2018-12-31T00:00:00",
          "2019-12-31T00:00:00",
          "2020-12-31T00:00:00",
          "2021-12-31T00:00:00",
          "2022-12-31T00:00:00",
          "2023-12-31T00:00:00",
          "2024-12-31T00:00:00",
          "2025-12-31T00:00:00"
         ],
         "xaxis": "x4",
         "y": [
          0.3075,
          0.35250000000000004,
          0.36999999999999994,
          0.8024999999999999,
          0.4716666666666667,
          0.3775,
          0.3941666666666667,
          0.16
         ],
         "yaxis": "y4"
        }
       ],
       "layout": {
        "annotations": [
         {
          "font": {
           "size": 16
          },
          "showarrow": false,
          "text": "Mês",
          "x": 0.5,
          "xanchor": "center",
          "xref": "paper",
          "y": 1,
          "yanchor": "bottom",
          "yref": "paper"
         },
         {
          "font": {
           "size": 16
          },
          "showarrow": false,
          "text": "Quarter",
          "x": 0.5,
          "xanchor": "center",
          "xref": "paper",
          "y": 0.71875,
          "yanchor": "bottom",
          "yref": "paper"
         },
         {
          "font": {
           "size": 16
          },
          "showarrow": false,
          "text": "Semestre",
          "x": 0.5,
          "xanchor": "center",
          "xref": "paper",
          "y": 0.4375,
          "yanchor": "bottom",
          "yref": "paper"
         },
         {
          "font": {
           "size": 16
          },
          "showarrow": false,
          "text": "Ano",
          "x": 0.5,
          "xanchor": "center",
          "xref": "paper",
          "y": 0.15625,
          "yanchor": "bottom",
          "yref": "paper"
         }
        ],
        "height": 1100,
        "template": {
         "data": {
          "bar": [
           {
            "error_x": {
             "color": "#2a3f5f"
            },
            "error_y": {
             "color": "#2a3f5f"
            },
            "marker": {
             "line": {
              "color": "#E5ECF6",
              "width": 0.5
             },
             "pattern": {
              "fillmode": "overlay",
              "size": 10,
              "solidity": 0.2
             }
            },
            "type": "bar"
           }
          ],
          "barpolar": [
           {
            "marker": {
             "line": {
              "color": "#E5ECF6",
              "width": 0.5
             },
             "pattern": {
              "fillmode": "overlay",
              "size": 10,
              "solidity": 0.2
             }
            },
            "type": "barpolar"
           }
          ],
          "carpet": [
           {
            "aaxis": {
             "endlinecolor": "#2a3f5f",
             "gridcolor": "white",
             "linecolor": "white",
             "minorgridcolor": "white",
             "startlinecolor": "#2a3f5f"
            },
            "baxis": {
             "endlinecolor": "#2a3f5f",
             "gridcolor": "white",
             "linecolor": "white",
             "minorgridcolor": "white",
             "startlinecolor": "#2a3f5f"
            },
            "type": "carpet"
           }
          ],
          "choropleth": [
           {
            "colorbar": {
             "outlinewidth": 0,
             "ticks": ""
            },
            "type": "choropleth"
           }
          ],
          "contour": [
           {
            "colorbar": {
             "outlinewidth": 0,
             "ticks": ""
            },
            "colorscale": [
             [
              0,
              "#0d0887"
             ],
             [
              0.1111111111111111,
              "#46039f"
             ],
             [
              0.2222222222222222,
              "#7201a8"
             ],
             [
              0.3333333333333333,
              "#9c179e"
             ],
             [
              0.4444444444444444,
              "#bd3786"
             ],
             [
              0.5555555555555556,
              "#d8576b"
             ],
             [
              0.6666666666666666,
              "#ed7953"
             ],
             [
              0.7777777777777778,
              "#fb9f3a"
             ],
             [
              0.8888888888888888,
              "#fdca26"
             ],
             [
              1,
              "#f0f921"
             ]
            ],
            "type": "contour"
           }
          ],
          "contourcarpet": [
           {
            "colorbar": {
             "outlinewidth": 0,
             "ticks": ""
            },
            "type": "contourcarpet"
           }
          ],
          "heatmap": [
           {
            "colorbar": {
             "outlinewidth": 0,
             "ticks": ""
            },
            "colorscale": [
             [
              0,
              "#0d0887"
             ],
             [
              0.1111111111111111,
              "#46039f"
             ],
             [
              0.2222222222222222,
              "#7201a8"
             ],
             [
              0.3333333333333333,
              "#9c179e"
             ],
             [
              0.4444444444444444,
              "#bd3786"
             ],
             [
              0.5555555555555556,
              "#d8576b"
             ],
             [
              0.6666666666666666,
              "#ed7953"
             ],
             [
              0.7777777777777778,
              "#fb9f3a"
             ],
             [
              0.8888888888888888,
              "#fdca26"
             ],
             [
              1,
              "#f0f921"
             ]
            ],
            "type": "heatmap"
           }
          ],
          "heatmapgl": [
           {
            "colorbar": {
             "outlinewidth": 0,
             "ticks": ""
            },
            "colorscale": [
             [
              0,
              "#0d0887"
             ],
             [
              0.1111111111111111,
              "#46039f"
             ],
             [
              0.2222222222222222,
              "#7201a8"
             ],
             [
              0.3333333333333333,
              "#9c179e"
             ],
             [
              0.4444444444444444,
              "#bd3786"
             ],
             [
              0.5555555555555556,
              "#d8576b"
             ],
             [
              0.6666666666666666,
              "#ed7953"
             ],
             [
              0.7777777777777778,
              "#fb9f3a"
             ],
             [
              0.8888888888888888,
              "#fdca26"
             ],
             [
              1,
              "#f0f921"
             ]
            ],
            "type": "heatmapgl"
           }
          ],
          "histogram": [
           {
            "marker": {
             "pattern": {
              "fillmode": "overlay",
              "size": 10,
              "solidity": 0.2
             }
            },
            "type": "histogram"
           }
          ],
          "histogram2d": [
           {
            "colorbar": {
             "outlinewidth": 0,
             "ticks": ""
            },
            "colorscale": [
             [
              0,
              "#0d0887"
             ],
             [
              0.1111111111111111,
              "#46039f"
             ],
             [
              0.2222222222222222,
              "#7201a8"
             ],
             [
              0.3333333333333333,
              "#9c179e"
             ],
             [
              0.4444444444444444,
              "#bd3786"
             ],
             [
              0.5555555555555556,
              "#d8576b"
             ],
             [
              0.6666666666666666,
              "#ed7953"
             ],
             [
              0.7777777777777778,
              "#fb9f3a"
             ],
             [
              0.8888888888888888,
              "#fdca26"
             ],
             [
              1,
              "#f0f921"
             ]
            ],
            "type": "histogram2d"
           }
          ],
          "histogram2dcontour": [
           {
            "colorbar": {
             "outlinewidth": 0,
             "ticks": ""
            },
            "colorscale": [
             [
              0,
              "#0d0887"
             ],
             [
              0.1111111111111111,
              "#46039f"
             ],
             [
              0.2222222222222222,
              "#7201a8"
             ],
             [
              0.3333333333333333,
              "#9c179e"
             ],
             [
              0.4444444444444444,
              "#bd3786"
             ],
             [
              0.5555555555555556,
              "#d8576b"
             ],
             [
              0.6666666666666666,
              "#ed7953"
             ],
             [
              0.7777777777777778,
              "#fb9f3a"
             ],
             [
              0.8888888888888888,
              "#fdca26"
             ],
             [
              1,
              "#f0f921"
             ]
            ],
            "type": "histogram2dcontour"
           }
          ],
          "mesh3d": [
           {
            "colorbar": {
             "outlinewidth": 0,
             "ticks": ""
            },
            "type": "mesh3d"
           }
          ],
          "parcoords": [
           {
            "line": {
             "colorbar": {
              "outlinewidth": 0,
              "ticks": ""
             }
            },
            "type": "parcoords"
           }
          ],
          "pie": [
           {
            "automargin": true,
            "type": "pie"
           }
          ],
          "scatter": [
           {
            "fillpattern": {
             "fillmode": "overlay",
             "size": 10,
             "solidity": 0.2
            },
            "type": "scatter"
           }
          ],
          "scatter3d": [
           {
            "line": {
             "colorbar": {
              "outlinewidth": 0,
              "ticks": ""
             }
            },
            "marker": {
             "colorbar": {
              "outlinewidth": 0,
              "ticks": ""
             }
            },
            "type": "scatter3d"
           }
          ],
          "scattercarpet": [
           {
            "marker": {
             "colorbar": {
              "outlinewidth": 0,
              "ticks": ""
             }
            },
            "type": "scattercarpet"
           }
          ],
          "scattergeo": [
           {
            "marker": {
             "colorbar": {
              "outlinewidth": 0,
              "ticks": ""
             }
            },
            "type": "scattergeo"
           }
          ],
          "scattergl": [
           {
            "marker": {
             "colorbar": {
              "outlinewidth": 0,
              "ticks": ""
             }
            },
            "type": "scattergl"
           }
          ],
          "scattermapbox": [
           {
            "marker": {
             "colorbar": {
              "outlinewidth": 0,
              "ticks": ""
             }
            },
            "type": "scattermapbox"
           }
          ],
          "scatterpolar": [
           {
            "marker": {
             "colorbar": {
              "outlinewidth": 0,
              "ticks": ""
             }
            },
            "type": "scatterpolar"
           }
          ],
          "scatterpolargl": [
           {
            "marker": {
             "colorbar": {
              "outlinewidth": 0,
              "ticks": ""
             }
            },
            "type": "scatterpolargl"
           }
          ],
          "scatterternary": [
           {
            "marker": {
             "colorbar": {
              "outlinewidth": 0,
              "ticks": ""
             }
            },
            "type": "scatterternary"
           }
          ],
          "surface": [
           {
            "colorbar": {
             "outlinewidth": 0,
             "ticks": ""
            },
            "colorscale": [
             [
              0,
              "#0d0887"
             ],
             [
              0.1111111111111111,
              "#46039f"
             ],
             [
              0.2222222222222222,
              "#7201a8"
             ],
             [
              0.3333333333333333,
              "#9c179e"
             ],
             [
              0.4444444444444444,
              "#bd3786"
             ],
             [
              0.5555555555555556,
              "#d8576b"
             ],
             [
              0.6666666666666666,
              "#ed7953"
             ],
             [
              0.7777777777777778,
              "#fb9f3a"
             ],
             [
              0.8888888888888888,
              "#fdca26"
             ],
             [
              1,
              "#f0f921"
             ]
            ],
            "type": "surface"
           }
          ],
          "table": [
           {
            "cells": {
             "fill": {
              "color": "#EBF0F8"
             },
             "line": {
              "color": "white"
             }
            },
            "header": {
             "fill": {
              "color": "#C8D4E3"
             },
             "line": {
              "color": "white"
             }
            },
            "type": "table"
           }
          ]
         },
         "layout": {
          "annotationdefaults": {
           "arrowcolor": "#2a3f5f",
           "arrowhead": 0,
           "arrowwidth": 1
          },
          "autotypenumbers": "strict",
          "coloraxis": {
           "colorbar": {
            "outlinewidth": 0,
            "ticks": ""
           }
          },
          "colorscale": {
           "diverging": [
            [
             0,
             "#8e0152"
            ],
            [
             0.1,
             "#c51b7d"
            ],
            [
             0.2,
             "#de77ae"
            ],
            [
             0.3,
             "#f1b6da"
            ],
            [
             0.4,
             "#fde0ef"
            ],
            [
             0.5,
             "#f7f7f7"
            ],
            [
             0.6,
             "#e6f5d0"
            ],
            [
             0.7,
             "#b8e186"
            ],
            [
             0.8,
             "#7fbc41"
            ],
            [
             0.9,
             "#4d9221"
            ],
            [
             1,
             "#276419"
            ]
           ],
           "sequential": [
            [
             0,
             "#0d0887"
            ],
            [
             0.1111111111111111,
             "#46039f"
            ],
            [
             0.2222222222222222,
             "#7201a8"
            ],
            [
             0.3333333333333333,
             "#9c179e"
            ],
            [
             0.4444444444444444,
             "#bd3786"
            ],
            [
             0.5555555555555556,
             "#d8576b"
            ],
            [
             0.6666666666666666,
             "#ed7953"
            ],
            [
             0.7777777777777778,
             "#fb9f3a"
            ],
            [
             0.8888888888888888,
             "#fdca26"
            ],
            [
             1,
             "#f0f921"
            ]
           ],
           "sequentialminus": [
            [
             0,
             "#0d0887"
            ],
            [
             0.1111111111111111,
             "#46039f"
            ],
            [
             0.2222222222222222,
             "#7201a8"
            ],
            [
             0.3333333333333333,
             "#9c179e"
            ],
            [
             0.4444444444444444,
             "#bd3786"
            ],
            [
             0.5555555555555556,
             "#d8576b"
            ],
            [
             0.6666666666666666,
             "#ed7953"
            ],
            [
             0.7777777777777778,
             "#fb9f3a"
            ],
            [
             0.8888888888888888,
             "#fdca26"
            ],
            [
             1,
             "#f0f921"
            ]
           ]
          },
          "colorway": [
           "#636efa",
           "#EF553B",
           "#00cc96",
           "#ab63fa",
           "#FFA15A",
           "#19d3f3",
           "#FF6692",
           "#B6E880",
           "#FF97FF",
           "#FECB52"
          ],
          "font": {
           "color": "#2a3f5f"
          },
          "geo": {
           "bgcolor": "white",
           "lakecolor": "white",
           "landcolor": "#E5ECF6",
           "showlakes": true,
           "showland": true,
           "subunitcolor": "white"
          },
          "hoverlabel": {
           "align": "left"
          },
          "hovermode": "closest",
          "mapbox": {
           "style": "light"
          },
          "paper_bgcolor": "white",
          "plot_bgcolor": "#E5ECF6",
          "polar": {
           "angularaxis": {
            "gridcolor": "white",
            "linecolor": "white",
            "ticks": ""
           },
           "bgcolor": "#E5ECF6",
           "radialaxis": {
            "gridcolor": "white",
            "linecolor": "white",
            "ticks": ""
           }
          },
          "scene": {
           "xaxis": {
            "backgroundcolor": "#E5ECF6",
            "gridcolor": "white",
            "gridwidth": 2,
            "linecolor": "white",
            "showbackground": true,
            "ticks": "",
            "zerolinecolor": "white"
           },
           "yaxis": {
            "backgroundcolor": "#E5ECF6",
            "gridcolor": "white",
            "gridwidth": 2,
            "linecolor": "white",
            "showbackground": true,
            "ticks": "",
            "zerolinecolor": "white"
           },
           "zaxis": {
            "backgroundcolor": "#E5ECF6",
            "gridcolor": "white",
            "gridwidth": 2,
            "linecolor": "white",
            "showbackground": true,
            "ticks": "",
            "zerolinecolor": "white"
           }
          },
          "shapedefaults": {
           "line": {
            "color": "#2a3f5f"
           }
          },
          "ternary": {
           "aaxis": {
            "gridcolor": "white",
            "linecolor": "white",
            "ticks": ""
           },
           "baxis": {
            "gridcolor": "white",
            "linecolor": "white",
            "ticks": ""
           },
           "bgcolor": "#E5ECF6",
           "caxis": {
            "gridcolor": "white",
            "linecolor": "white",
            "ticks": ""
           }
          },
          "title": {
           "x": 0.05
          },
          "xaxis": {
           "automargin": true,
           "gridcolor": "white",
           "linecolor": "white",
           "ticks": "",
           "title": {
            "standoff": 15
           },
           "zerolinecolor": "white",
           "zerolinewidth": 2
          },
          "yaxis": {
           "automargin": true,
           "gridcolor": "white",
           "linecolor": "white",
           "ticks": "",
           "title": {
            "standoff": 15
           },
           "zerolinecolor": "white",
           "zerolinewidth": 2
          }
         }
        },
        "title": {
         "text": "Variação da Inflação (IPCA) por Granularidade"
        },
        "width": 900,
        "xaxis": {
         "anchor": "y",
         "domain": [
          0,
          1
         ],
         "title": {
          "text": "Data"
         }
        },
        "xaxis2": {
         "anchor": "y2",
         "domain": [
          0,
          1
         ],
         "title": {
          "text": "Data"
         }
        },
        "xaxis3": {
         "anchor": "y3",
         "domain": [
          0,
          1
         ],
         "title": {
          "text": "Data"
         }
        },
        "xaxis4": {
         "anchor": "y4",
         "domain": [
          0,
          1
         ],
         "title": {
          "text": "Data"
         }
        },
        "yaxis": {
         "anchor": "x",
         "domain": [
          0.84375,
          1
         ],
         "title": {
          "text": "Variação (%)"
         }
        },
        "yaxis2": {
         "anchor": "x2",
         "domain": [
          0.5625,
          0.71875
         ],
         "title": {
          "text": "Variação (%)"
         }
        },
        "yaxis3": {
         "anchor": "x3",
         "domain": [
          0.28125,
          0.4375
         ],
         "title": {
          "text": "Variação (%)"
         }
        },
        "yaxis4": {
         "anchor": "x4",
         "domain": [
          0,
          0.15625
         ],
         "title": {
          "text": "Variação (%)"
         }
        }
       }
      }
     },
     "metadata": {},
     "output_type": "display_data"
    }
   ],
   "source": [
    "# Criação dos subplots\n",
    "fig = make_subplots(rows=len(granularidades), cols=1, subplot_titles=list(granularidades.keys()))\n",
    "\n",
    "# Loop para plotar os gráficos\n",
    "for count, (nome, freq) in enumerate(granularidades.items(), start=1):\n",
    "    tempo = df['No mês'].resample(freq).mean()\n",
    "\n",
    "    fig.add_trace(\n",
    "        go.Scatter(x=tempo.index, y=tempo.values, name=nome),\n",
    "        row=count, col=1\n",
    "    )\n",
    "    fig.update_xaxes(title_text='Data', row=count, col=1)\n",
    "    fig.update_yaxes(title_text='Variação (%)', row=count, col=1)\n",
    "\n",
    "# Plot dos gráficos\n",
    "fig.update_layout(height=1100, width=900, title_text='Variação da Inflação (IPCA) por Granularidade')\n",
    "fig.show()"
   ]
  }
 ],
 "metadata": {
  "kernelspec": {
   "display_name": "Python 3",
   "language": "python",
   "name": "python3"
  },
  "language_info": {
   "codemirror_mode": {
    "name": "ipython",
    "version": 3
   },
   "file_extension": ".py",
   "mimetype": "text/x-python",
   "name": "python",
   "nbconvert_exporter": "python",
   "pygments_lexer": "ipython3",
   "version": "3.11.2"
  }
 },
 "nbformat": 4,
 "nbformat_minor": 2
}
